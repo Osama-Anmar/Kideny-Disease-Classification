{
 "cells": [
  {
   "attachments": {},
   "cell_type": "markdown",
   "metadata": {},
   "source": [
    "# Import Important Libraries"
   ]
  },
  {
   "cell_type": "code",
   "execution_count": null,
   "metadata": {},
   "outputs": [],
   "source": [
    "import tensorflow as tf\n",
    "import matplotlib.pyplot as plt\n",
    "import splitfolders\n",
    "from tensorflow import *\n",
    "from sklearn.metrics import *\n",
    "from sklearn.preprocessing import *\n",
    "from keras.layers import *\n",
    "from keras.preprocessing import *\n",
    "from keras.preprocessing.image import *\n",
    "from tensorflow import keras\n",
    "import pandas as pd\n",
    "import numpy as np\n",
    "import seaborn as sns\n",
    "import random as random\n",
    "import tensorflow_addons as tfa\n",
    "import matplotlib as mpl\n",
    "import warnings\n",
    "import os\n",
    "import cv2"
   ]
  },
  {
   "attachments": {},
   "cell_type": "markdown",
   "metadata": {},
   "source": [
    "# Ignore warnings"
   ]
  },
  {
   "cell_type": "code",
   "execution_count": null,
   "metadata": {},
   "outputs": [],
   "source": [
    "warnings.filterwarnings('ignore')\n",
    "os.environ['TF_CPP_MIN_LOG_LEVEL'] = '3' "
   ]
  },
  {
   "attachments": {},
   "cell_type": "markdown",
   "metadata": {},
   "source": [
    "# Set Random Values"
   ]
  },
  {
   "cell_type": "code",
   "execution_count": null,
   "metadata": {},
   "outputs": [],
   "source": [
    "seed_value=40\n",
    "random.seed(seed_value)\n",
    "np.random.seed(seed_value)\n",
    "tf.random.set_seed(seed_value)"
   ]
  },
  {
   "attachments": {},
   "cell_type": "markdown",
   "metadata": {},
   "source": [
    "# Count Number Of Images"
   ]
  },
  {
   "cell_type": "code",
   "execution_count": null,
   "metadata": {},
   "outputs": [],
   "source": [
    "ImagePath = './Kideny'"
   ]
  },
  {
   "cell_type": "code",
   "execution_count": null,
   "metadata": {},
   "outputs": [],
   "source": [
    "from pathlib import Path\n",
    "\n",
    "Data_Root = Path(ImagePath)\n",
    "\n",
    "Total = 0\n",
    "for sub_dir in Data_Root.iterdir():\n",
    "    Count = len(list(sub_dir.iterdir()))\n",
    "    Total += Count\n",
    "    print(f'{sub_dir.name}: {Count}')\n",
    "\n",
    "print('')\n",
    "print(f'Total Numbers Of Files: {Total}')"
   ]
  },
  {
   "attachments": {},
   "cell_type": "markdown",
   "metadata": {},
   "source": [
    "# Split The Data Into Train, Test, And Validation"
   ]
  },
  {
   "cell_type": "code",
   "execution_count": null,
   "metadata": {},
   "outputs": [],
   "source": [
    "directory = \"Data\" \n",
    "parent_dir = '/Users/osamaanmar/Downloads/Kideny Disease Classification/'\n",
    "path = os.path.join(parent_dir, directory)\n",
    "os.mkdir(path)"
   ]
  },
  {
   "cell_type": "code",
   "execution_count": null,
   "metadata": {},
   "outputs": [],
   "source": [
    "Input = ImagePath\n",
    "Output = './Data'\n",
    "\n",
    "splitfolders.ratio(Input, output=Output, seed=seed_value, ratio=(.8, 0.1, .1))"
   ]
  },
  {
   "cell_type": "markdown",
   "metadata": {},
   "source": [
    "# Generate Image DataSet"
   ]
  },
  {
   "cell_type": "code",
   "execution_count": null,
   "metadata": {},
   "outputs": [],
   "source": [
    "Training_Set = tf.keras.preprocessing.image_dataset_from_directory(directory='/Users/osamaanmar/Downloads/Kideny Disease Classification/Data/train',\n",
    "                                               label_mode='categorical',\n",
    "                                               seed=seed_value,\n",
    "                                               image_size=(160, 160),\n",
    "                                               batch_size=32,\n",
    "                                               shuffle=True)"
   ]
  },
  {
   "cell_type": "code",
   "execution_count": null,
   "metadata": {},
   "outputs": [],
   "source": [
    "Testing_Set = tf.keras.preprocessing.image_dataset_from_directory(directory='/Users/osamaanmar/Downloads/Kideny Disease Classification/Data/test',\n",
    "                                               label_mode='categorical',\n",
    "                                               seed=seed_value,\n",
    "                                               image_size=(160, 160),\n",
    "                                               batch_size=32,\n",
    "                                               shuffle=True)"
   ]
  },
  {
   "cell_type": "code",
   "execution_count": null,
   "metadata": {},
   "outputs": [],
   "source": [
    "Validation_Set = tf.keras.preprocessing.image_dataset_from_directory(directory='/Users/osamaanmar/Downloads/Kideny Disease Classification/Data/val',\n",
    "                                               label_mode='categorical',\n",
    "                                               seed=seed_value,\n",
    "                                               image_size=(160, 160),\n",
    "                                               batch_size=32,\n",
    "                                               shuffle=True)"
   ]
  },
  {
   "attachments": {},
   "cell_type": "markdown",
   "metadata": {},
   "source": [
    "# Data Visualization "
   ]
  },
  {
   "cell_type": "code",
   "execution_count": null,
   "metadata": {},
   "outputs": [],
   "source": [
    "def plot_some_images(Data, NumberOfImages):\n",
    "    Labels = Data.class_names\n",
    "    Data = Data\n",
    "    NumberOfImages = NumberOfImages\n",
    "\n",
    "    Row  = int(tf.get_static_value(math.ceil(NumberOfImages**0.5)))\n",
    "    Col  = int(tf.get_static_value(math.ceil(NumberOfImages**0.5)))\n",
    "\n",
    "    Counter = 1\n",
    "\n",
    "    plt.figure(figsize=(15, 15))\n",
    "    for images, labels in Data:\n",
    "     for i in range(NumberOfImages):\n",
    "        ax = plt.subplot(Row, Col,Counter)\n",
    "        plt.imshow(images[i].numpy().astype(\"uint8\"))\n",
    "        plt.title(Labels[np.argmax(labels[i])])\n",
    "        plt.axis(\"off\")\n",
    "\n",
    "        if Counter >+ NumberOfImages:\n",
    "           break\n",
    "        else:\n",
    "           Counter += 1"
   ]
  },
  {
   "attachments": {},
   "cell_type": "markdown",
   "metadata": {},
   "source": [
    "**1. Training Set**"
   ]
  },
  {
   "cell_type": "code",
   "execution_count": null,
   "metadata": {},
   "outputs": [],
   "source": [
    "plot_some_images(Training_Set, 20)"
   ]
  },
  {
   "attachments": {},
   "cell_type": "markdown",
   "metadata": {},
   "source": [
    "**2.Testing Set**"
   ]
  },
  {
   "cell_type": "code",
   "execution_count": null,
   "metadata": {},
   "outputs": [],
   "source": [
    "plot_some_images(Testing_Set, 20)"
   ]
  },
  {
   "attachments": {},
   "cell_type": "markdown",
   "metadata": {},
   "source": [
    "**3. Validation Set**"
   ]
  },
  {
   "cell_type": "code",
   "execution_count": null,
   "metadata": {},
   "outputs": [],
   "source": [
    "plot_some_images(Validation_Set, 20)"
   ]
  },
  {
   "attachments": {},
   "cell_type": "markdown",
   "metadata": {},
   "source": [
    "# Models"
   ]
  },
  {
   "cell_type": "code",
   "execution_count": null,
   "metadata": {},
   "outputs": [],
   "source": [
    "Input_Shape = (160, 160, 3)\n",
    "Epochs = 100\n",
    "Number_Of_Classes = len(os.listdir(ImagePath))"
   ]
  },
  {
   "cell_type": "code",
   "execution_count": null,
   "metadata": {},
   "outputs": [],
   "source": [
    "Metrics = ['accuracy',\n",
    "           tf.keras.metrics.Precision(name='Precision'), \n",
    "           tfa.metrics.F1Score(name='F1', num_classes=Number_Of_Classes, average='micro'),\n",
    "           tf.keras.metrics.Recall(name='Recall'),]"
   ]
  },
  {
   "cell_type": "code",
   "execution_count": null,
   "metadata": {},
   "outputs": [],
   "source": [
    "Callback = tf.keras.callbacks.EarlyStopping(\n",
    "                    monitor=\"accuracy\",\n",
    "                    patience=5,\n",
    "                    verbose=0,\n",
    "                    mode=\"auto\",\n",
    "                    restore_best_weights=True,\n",
    "                    start_from_epoch=10,\n",
    "                )"
   ]
  },
  {
   "cell_type": "code",
   "execution_count": null,
   "metadata": {},
   "outputs": [],
   "source": [
    "class Models(): \n",
    "    def __init__(self,input_shape,epochs) :\n",
    "        self.input_shape = input_shape\n",
    "        self.epochs = epochs\n",
    "        \n",
    "    def convolutional_neural_network(self):\n",
    "\n",
    "        model = keras.models.Sequential([\n",
    "                                         Conv2D(32, 3, activation='relu', input_shape = self.input_shape),\n",
    "                                         keras.layers.MaxPooling2D(),\n",
    "                                         \n",
    "                                         keras.layers.Conv2D(32, 3, activation='relu'),\n",
    "                                         keras.layers.MaxPooling2D(),\n",
    "\n",
    "                                         keras.layers.Conv2D(64, 3, activation='relu'),\n",
    "                                         keras.layers.MaxPooling2D(),\n",
    "                                        \n",
    "                                         keras.layers.Flatten(),\n",
    "                                         Dropout(0.2),\n",
    "\n",
    "                                         keras.layers.Dense(128 ,activation='relu'),\n",
    "                                        \n",
    "                                         keras.layers.Dense(Number_Of_Classes, activation='softmax'),\n",
    "\n",
    "                                         ])\n",
    "            \n",
    "        model.compile(loss= 'categorical_crossentropy',\n",
    "                        optimizer='ADAM',\n",
    "                        metrics=Metrics)\n",
    "        \n",
    "        model.fit(Training_Set, \n",
    "                  epochs= self.epochs, \n",
    "                  validation_data=Validation_Set,\n",
    "                  callbacks=[Callback],\n",
    "                  shuffle=True\n",
    "                    );\n",
    "        \n",
    "        return model\n",
    "    \n",
    "    \n",
    "    def tranfer_learning(self, base_model):  \n",
    "\n",
    "        base_model = base_model\n",
    "        base_model.trainable = False\n",
    "            \n",
    "        inputs = tf.keras.Input(self.input_shape)\n",
    "        x = base_model(inputs)\n",
    "        x = GlobalAveragePooling2D()(x)\n",
    "        x = Flatten()(x)\n",
    "        x = Dropout(0.2)(x)\n",
    "        outputs = Dense(Number_Of_Classes, 'sigmoid')(x)\n",
    "        model = tf.keras.Model(inputs, outputs)\n",
    "            \n",
    "            \n",
    "        model.compile(loss= 'categorical_crossentropy',\n",
    "                        optimizer='Adam',\n",
    "                        metrics=Metrics)\n",
    "\n",
    "        model.fit(Training_Set,\n",
    "                  epochs=self.epochs,\n",
    "                  validation_data=Testing_Set,\n",
    "                  callbacks=[Callback], \n",
    "                  shuffle=True,\n",
    "                  );\n",
    "        \n",
    "        return model    "
   ]
  },
  {
   "attachments": {},
   "cell_type": "markdown",
   "metadata": {},
   "source": [
    "# Model History Result"
   ]
  },
  {
   "cell_type": "code",
   "execution_count": null,
   "metadata": {},
   "outputs": [],
   "source": [
    "def model_history_values(model, name):\n",
    "    file_name = name\n",
    "    HistoryResult= pd.DataFrame(model.history.history)\n",
    "    HistoryResult.to_csv(os.path.join('{}HitoryResult.csv'.format(file_name)) ,index=False)\n",
    "    return HistoryResult"
   ]
  },
  {
   "attachments": {},
   "cell_type": "markdown",
   "metadata": {},
   "source": [
    "# Model Evaluation"
   ]
  },
  {
   "cell_type": "code",
   "execution_count": null,
   "metadata": {},
   "outputs": [],
   "source": [
    "def model_evulation(model, data):\n",
    "    Loss, Accuracy, Precision, F1Score, Recall = model.evaluate(data, verbose=0)\n",
    "    \n",
    "    return Loss, Accuracy, Precision, F1Score, Recall   "
   ]
  },
  {
   "attachments": {},
   "cell_type": "markdown",
   "metadata": {},
   "source": [
    "# Generate Real And Prediction Classes"
   ]
  },
  {
   "cell_type": "code",
   "execution_count": null,
   "metadata": {},
   "outputs": [],
   "source": [
    "def generate_y(model, test_dir):\n",
    "    test_dir = test_dir\n",
    "    Real = []\n",
    "    for label in os.listdir(test_dir):\n",
    "        for image in os.listdir(test_dir+label):\n",
    "            Real.append(label)\n",
    "\n",
    "    encoder =  LabelEncoder()\n",
    "    Real = encoder.fit_transform(Real)\n",
    "            \n",
    "    Prediction = model.predict(Testing_Set)\n",
    "    Prediction = np.argmax(Prediction, axis=1)\n",
    "    \n",
    "    return Real, Prediction\n"
   ]
  },
  {
   "attachments": {},
   "cell_type": "markdown",
   "metadata": {},
   "source": [
    "# Confusion Matrix"
   ]
  },
  {
   "cell_type": "code",
   "execution_count": null,
   "metadata": {},
   "outputs": [],
   "source": [
    "def confusion_matrix(Real, Prediction):\n",
    "        \n",
    "        ClassesName = Testing_Set.class_names\n",
    "        ConfusionMatrix = tf.math.confusion_matrix(Real,Prediction).numpy()\n",
    "        ConfusionMatrix = pd.DataFrame(ConfusionMatrix,\n",
    "                     index = ClassesName, \n",
    "                     columns = ClassesName)\n",
    "        return ConfusionMatrix\n",
    "    \n",
    "def plot_confusion_matrix(ConfusionMatrix, name):\n",
    "\n",
    "        mpl.style.use('seaborn')\n",
    "        plt.figure(figsize= (10, 10))\n",
    "        sns.heatmap(ConfusionMatrix, square=True,annot=True, cmap=\"BrBG\", fmt=\"d\", linewidths=.5)\n",
    "        plt.ylabel('True label')\n",
    "        plt.xlabel('Predicted label')\n",
    "        plt.title('{} Confusion Matrix with Labels'.format(name))\n",
    "        plt.rcParams['font.size'] = '10'\n",
    "        plt.grid(None)\n",
    "        plt.show();"
   ]
  },
  {
   "attachments": {},
   "cell_type": "markdown",
   "metadata": {},
   "source": [
    "# Convolutional Neural Network"
   ]
  },
  {
   "cell_type": "code",
   "execution_count": null,
   "metadata": {},
   "outputs": [],
   "source": [
    "test_dir = '/Users/osamaanmar/Downloads/Kideny Disease Classification/Data/test/'"
   ]
  },
  {
   "cell_type": "code",
   "execution_count": null,
   "metadata": {},
   "outputs": [],
   "source": [
    "name = 'Convolutional Neural Network'"
   ]
  },
  {
   "cell_type": "code",
   "execution_count": null,
   "metadata": {},
   "outputs": [],
   "source": [
    "model = Models(Input_Shape, Epochs)\n",
    "model0 = model.convolutional_neural_network()"
   ]
  },
  {
   "cell_type": "code",
   "execution_count": null,
   "metadata": {},
   "outputs": [],
   "source": [
    "ModelHistory0 = model_history_values(model0, name)"
   ]
  },
  {
   "cell_type": "code",
   "execution_count": null,
   "metadata": {},
   "outputs": [],
   "source": [
    "ModelHistory0"
   ]
  },
  {
   "cell_type": "code",
   "execution_count": null,
   "metadata": {},
   "outputs": [],
   "source": [
    "TestLoss0, TestAccuracy0, TestPrecision0, TestF1Score0, TestRecall0 = model_evulation(model0,Testing_Set)"
   ]
  },
  {
   "cell_type": "code",
   "execution_count": null,
   "metadata": {},
   "outputs": [],
   "source": [
    "Real0, Prediction0 = generate_y(model0, test_dir)"
   ]
  },
  {
   "cell_type": "code",
   "execution_count": null,
   "metadata": {},
   "outputs": [],
   "source": [
    "ConfusionMatrix0 = confusion_matrix(Real0, Prediction0)"
   ]
  },
  {
   "cell_type": "code",
   "execution_count": null,
   "metadata": {},
   "outputs": [],
   "source": [
    "plot_confusion_matrix(ConfusionMatrix0, name)"
   ]
  },
  {
   "attachments": {},
   "cell_type": "markdown",
   "metadata": {},
   "source": [
    "# Transfer Learning"
   ]
  },
  {
   "attachments": {},
   "cell_type": "markdown",
   "metadata": {},
   "source": [
    "**1. EfficientNetV2B0**"
   ]
  },
  {
   "cell_type": "code",
   "execution_count": null,
   "metadata": {},
   "outputs": [],
   "source": [
    "name = 'EfficientNetV2B0'"
   ]
  },
  {
   "cell_type": "code",
   "execution_count": null,
   "metadata": {},
   "outputs": [],
   "source": [
    "base_model = tf.keras.applications.EfficientNetV2B0(\n",
    "                                                    include_top=False,\n",
    "                                                    weights='imagenet')\n",
    "\n",
    "NetV2 = Models(Input_Shape, Epochs)\n",
    "model1 = NetV2.tranfer_learning(base_model)"
   ]
  },
  {
   "cell_type": "code",
   "execution_count": null,
   "metadata": {},
   "outputs": [],
   "source": [
    "ModelHistory1 = model_history_values(model1, name)"
   ]
  },
  {
   "cell_type": "code",
   "execution_count": null,
   "metadata": {},
   "outputs": [],
   "source": [
    "ModelHistory1"
   ]
  },
  {
   "cell_type": "code",
   "execution_count": null,
   "metadata": {},
   "outputs": [],
   "source": [
    "TestLoss1, TestAccuracy1, TestPrecision1, TestF1Score1, TestRecall1 = model_evulation(model1,Testing_Set)"
   ]
  },
  {
   "cell_type": "code",
   "execution_count": null,
   "metadata": {},
   "outputs": [],
   "source": [
    "Real1, Prediction0 = generate_y(model1, test_dir)"
   ]
  },
  {
   "cell_type": "code",
   "execution_count": null,
   "metadata": {},
   "outputs": [],
   "source": [
    "ConfusionMatrix0 = confusion_matrix(Real0, Prediction0)"
   ]
  },
  {
   "cell_type": "code",
   "execution_count": null,
   "metadata": {},
   "outputs": [],
   "source": [
    "plot_confusion_matrix(ConfusionMatrix0, name)"
   ]
  },
  {
   "cell_type": "markdown",
   "metadata": {},
   "source": [
    "**2. ResNet101**"
   ]
  },
  {
   "cell_type": "code",
   "execution_count": null,
   "metadata": {},
   "outputs": [],
   "source": [
    "name = 'Convolutional Neural Network'"
   ]
  },
  {
   "cell_type": "code",
   "execution_count": null,
   "metadata": {},
   "outputs": [],
   "source": [
    "base_model = tf.keras.applications.ResNet101(\n",
    "                                                    include_top=False,\n",
    "                                                    weights='imagenet')\n",
    "\n",
    "Res = Models(Input_Shape, Epochs)\n",
    "model2 = Res.tranfer_learning(base_model)"
   ]
  },
  {
   "cell_type": "code",
   "execution_count": null,
   "metadata": {},
   "outputs": [],
   "source": [
    "ModelHistory2 = model_history_values(model2, name)"
   ]
  },
  {
   "cell_type": "code",
   "execution_count": null,
   "metadata": {},
   "outputs": [],
   "source": [
    "ModelHistory2"
   ]
  },
  {
   "cell_type": "code",
   "execution_count": null,
   "metadata": {},
   "outputs": [],
   "source": [
    "TestLoss2, TestAccuracy2, TestPrecision2, TestF1Score2, TestRecall2 = model_evulation(model2,Testing_Set)"
   ]
  },
  {
   "cell_type": "code",
   "execution_count": null,
   "metadata": {},
   "outputs": [],
   "source": [
    "Real2, Prediction2 = generate_y(model2, test_dir)"
   ]
  },
  {
   "cell_type": "code",
   "execution_count": null,
   "metadata": {},
   "outputs": [],
   "source": [
    "ConfusionMatrix2 = confusion_matrix(Real2, Prediction2)"
   ]
  },
  {
   "cell_type": "code",
   "execution_count": null,
   "metadata": {},
   "outputs": [],
   "source": [
    "plot_confusion_matrix(ConfusionMatrix2, name)"
   ]
  },
  {
   "attachments": {},
   "cell_type": "markdown",
   "metadata": {},
   "source": [
    "**3. InceptionV3**"
   ]
  },
  {
   "cell_type": "code",
   "execution_count": null,
   "metadata": {},
   "outputs": [],
   "source": [
    "name = 'InceptionV3'"
   ]
  },
  {
   "cell_type": "code",
   "execution_count": null,
   "metadata": {},
   "outputs": [],
   "source": [
    "base_model = tf.keras.applications.inception_v3.InceptionV3(\n",
    "        include_top=False,\n",
    "        weights='imagenet',)\n",
    "\n",
    "Inc = Models(Input_Shape, Epochs)\n",
    "model3 = Inc.tranfer_learning(base_model)"
   ]
  },
  {
   "cell_type": "code",
   "execution_count": null,
   "metadata": {},
   "outputs": [],
   "source": [
    "ModelHistory3 = model_history_values(model3, name)"
   ]
  },
  {
   "cell_type": "code",
   "execution_count": null,
   "metadata": {},
   "outputs": [],
   "source": [
    "ModelHistory3"
   ]
  },
  {
   "cell_type": "code",
   "execution_count": null,
   "metadata": {},
   "outputs": [],
   "source": [
    "TestLoss3, TestAccuracy3, TestPrecision3, TestF1Score3, TestRecall3 = model_evulation(model3, Testing_Set)"
   ]
  },
  {
   "cell_type": "code",
   "execution_count": null,
   "metadata": {},
   "outputs": [],
   "source": [
    "Real3, Prediction3 = generate_y(model3, test_dir)"
   ]
  },
  {
   "cell_type": "code",
   "execution_count": null,
   "metadata": {},
   "outputs": [],
   "source": [
    "ConfusionMatrix3 = confusion_matrix(Real3, Prediction3)"
   ]
  },
  {
   "cell_type": "code",
   "execution_count": null,
   "metadata": {},
   "outputs": [],
   "source": [
    "plot_confusion_matrix(ConfusionMatrix3, name)"
   ]
  },
  {
   "cell_type": "markdown",
   "metadata": {},
   "source": [
    "**4. VGG16**"
   ]
  },
  {
   "cell_type": "code",
   "execution_count": null,
   "metadata": {},
   "outputs": [],
   "source": [
    "name = 'VGG16'"
   ]
  },
  {
   "cell_type": "code",
   "execution_count": null,
   "metadata": {},
   "outputs": [],
   "source": [
    "base_model = tf.keras.applications.vgg16.VGG16(\n",
    "        include_top=False,\n",
    "        weights='imagenet',)\n",
    "\n",
    "VGG = Models(Input_Shape, Epochs)\n",
    "model4 = VGG.tranfer_learning(base_model)"
   ]
  },
  {
   "cell_type": "code",
   "execution_count": null,
   "metadata": {},
   "outputs": [],
   "source": [
    "ModelHistory4 = model_history_values(model4, name)"
   ]
  },
  {
   "cell_type": "code",
   "execution_count": null,
   "metadata": {},
   "outputs": [],
   "source": [
    "ModelHistory4 "
   ]
  },
  {
   "cell_type": "code",
   "execution_count": null,
   "metadata": {},
   "outputs": [],
   "source": [
    "TestLoss4, TestAccuracy4, TestPrecision4, TestF1Score4, TestRecall4 = model_evulation(model4, Testing_Set)"
   ]
  },
  {
   "cell_type": "code",
   "execution_count": null,
   "metadata": {},
   "outputs": [],
   "source": [
    "Real4, Prediction4 = generate_y(model4, test_dir)"
   ]
  },
  {
   "cell_type": "code",
   "execution_count": null,
   "metadata": {},
   "outputs": [],
   "source": [
    "ConfusionMatrix4 = confusion_matrix(Real4, Prediction4)"
   ]
  },
  {
   "cell_type": "code",
   "execution_count": null,
   "metadata": {},
   "outputs": [],
   "source": [
    "plot_confusion_matrix(ConfusionMatrix4, name)"
   ]
  },
  {
   "cell_type": "markdown",
   "metadata": {},
   "source": [
    "**5. VGG19**"
   ]
  },
  {
   "cell_type": "code",
   "execution_count": null,
   "metadata": {},
   "outputs": [],
   "source": [
    "name = 'VGG19'"
   ]
  },
  {
   "cell_type": "code",
   "execution_count": null,
   "metadata": {},
   "outputs": [],
   "source": [
    "base_model = tf.keras.applications.vgg19.VGG19(\n",
    "        include_top=False,\n",
    "        weights='imagenet',)\n",
    "\n",
    "VGG19 = Models(Input_Shape, Epochs)\n",
    "model5 = VGG19.tranfer_learning(base_model)"
   ]
  },
  {
   "cell_type": "code",
   "execution_count": null,
   "metadata": {},
   "outputs": [],
   "source": [
    "ModelHistory5 = model_history_values(model5, name)"
   ]
  },
  {
   "cell_type": "code",
   "execution_count": null,
   "metadata": {},
   "outputs": [],
   "source": [
    "ModelHistory5"
   ]
  },
  {
   "cell_type": "code",
   "execution_count": null,
   "metadata": {},
   "outputs": [],
   "source": [
    "TestLoss5, TestAccuracy5, TestPrecision5, TestF1Score5, TestRecall5 = model_evulation(model5, Testing_Set)"
   ]
  },
  {
   "cell_type": "code",
   "execution_count": null,
   "metadata": {},
   "outputs": [],
   "source": [
    "Real5, Prediction5 = generate_y(model5, test_dir)"
   ]
  },
  {
   "cell_type": "code",
   "execution_count": null,
   "metadata": {},
   "outputs": [],
   "source": [
    "ConfusionMatrix5 = confusion_matrix(Real5, Prediction5)"
   ]
  },
  {
   "cell_type": "code",
   "execution_count": null,
   "metadata": {},
   "outputs": [],
   "source": [
    "plot_confusion_matrix(ConfusionMatrix5, name)"
   ]
  },
  {
   "cell_type": "markdown",
   "metadata": {},
   "source": [
    "**6. Xception**"
   ]
  },
  {
   "cell_type": "code",
   "execution_count": null,
   "metadata": {},
   "outputs": [],
   "source": [
    "name = 'Xception'"
   ]
  },
  {
   "cell_type": "code",
   "execution_count": null,
   "metadata": {},
   "outputs": [],
   "source": [
    "base_model = tf.keras.applications.xception.Xception(\n",
    "        include_top=False,\n",
    "        weights='imagenet',)\n",
    "\n",
    "Xce = Models(Input_Shape, Epochs)\n",
    "model6 = Xce.tranfer_learning(base_model)"
   ]
  },
  {
   "cell_type": "code",
   "execution_count": null,
   "metadata": {},
   "outputs": [],
   "source": [
    "ModelHistory6 = model_history_values(model6, name)"
   ]
  },
  {
   "cell_type": "code",
   "execution_count": null,
   "metadata": {},
   "outputs": [],
   "source": [
    "TestLoss6, TestAccuracy6, TestPrecision6, TestF1Score6, TestRecall6 = model_evulation(model6, Testing_Set)"
   ]
  },
  {
   "cell_type": "code",
   "execution_count": null,
   "metadata": {},
   "outputs": [],
   "source": [
    "Real6, Prediction6 = generate_y(model6, test_dir)"
   ]
  },
  {
   "cell_type": "code",
   "execution_count": null,
   "metadata": {},
   "outputs": [],
   "source": [
    "ConfusionMatrix6 = confusion_matrix(Real6, Prediction6)"
   ]
  },
  {
   "cell_type": "code",
   "execution_count": null,
   "metadata": {},
   "outputs": [],
   "source": [
    "plot_confusion_matrix(ConfusionMatrix6, name)"
   ]
  },
  {
   "cell_type": "markdown",
   "metadata": {},
   "source": [
    "**7. EfficientNetB0**"
   ]
  },
  {
   "cell_type": "code",
   "execution_count": null,
   "metadata": {},
   "outputs": [],
   "source": [
    "name = 'EfficientNetB0'"
   ]
  },
  {
   "cell_type": "code",
   "execution_count": null,
   "metadata": {},
   "outputs": [],
   "source": [
    "base_model = tf.keras.applications.efficientnet.EfficientNetB0(\n",
    "        include_top=False,\n",
    "        weights='imagenet',)\n",
    "\n",
    "EFF = Models(Input_Shape, Epochs)\n",
    "model7 = EFF.tranfer_learning(base_model)"
   ]
  },
  {
   "cell_type": "code",
   "execution_count": null,
   "metadata": {},
   "outputs": [],
   "source": [
    "ModelHistory7 = model_history_values(model1, name)"
   ]
  },
  {
   "cell_type": "code",
   "execution_count": null,
   "metadata": {},
   "outputs": [],
   "source": [
    "ModelHistory7"
   ]
  },
  {
   "cell_type": "code",
   "execution_count": null,
   "metadata": {},
   "outputs": [],
   "source": [
    "TestLoss7, TestAccuracy7, TestPrecision7, TestF1Score7, TestRecall7 = model_evulation(model7, Testing_Set)"
   ]
  },
  {
   "cell_type": "code",
   "execution_count": null,
   "metadata": {},
   "outputs": [],
   "source": [
    "Real7, Prediction7 = generate_y(model7, test_dir)"
   ]
  },
  {
   "cell_type": "code",
   "execution_count": null,
   "metadata": {},
   "outputs": [],
   "source": [
    "ConfusionMatrix7 = confusion_matrix(Real7, Prediction7)"
   ]
  },
  {
   "cell_type": "code",
   "execution_count": null,
   "metadata": {},
   "outputs": [],
   "source": [
    "plot_confusion_matrix(ConfusionMatrix7, name)"
   ]
  }
 ],
 "metadata": {
  "kernelspec": {
   "display_name": "Python 3 (ipykernel)",
   "language": "python",
   "name": "python3"
  },
  "language_info": {
   "codemirror_mode": {
    "name": "ipython",
    "version": 3
   },
   "file_extension": ".py",
   "mimetype": "text/x-python",
   "name": "python",
   "nbconvert_exporter": "python",
   "pygments_lexer": "ipython3",
   "version": "3.10.11"
  }
 },
 "nbformat": 4,
 "nbformat_minor": 2
}
